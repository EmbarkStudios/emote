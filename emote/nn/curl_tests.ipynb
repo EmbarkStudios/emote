{
 "cells": [
  {
   "cell_type": "code",
   "execution_count": 44,
   "metadata": {},
   "outputs": [],
   "source": [
    "import torch\n",
    "import matplotlib.pyplot as plt\n",
    "\n",
    "images = torch.randn(size=(4,12,12,3))\n",
    "\n",
    "def v1(images):\n",
    "    batch_size, im_x, im_y, im_ch = (\n",
    "        images.shape[0],\n",
    "        images.shape[1],\n",
    "        images.shape[2],\n",
    "        images.shape[3],\n",
    "    )\n",
    "    mask_size_factor = torch.randint(low=2, high=4, size=[1])[0]\n",
    "    mask_size = [int(im_x / mask_size_factor), int(im_y / mask_size_factor)]\n",
    "\n",
    "    offset_i = torch.randint(low=0, high=im_x - mask_size[0], size=[batch_size])\n",
    "    offset_j = torch.randint(low=0, high=im_y - mask_size[1], size=[batch_size])\n",
    "\n",
    "    new_images = images.clone()\n",
    "    for i in range(batch_size):\n",
    "        start_i, start_j = offset_i[i], offset_j[i]\n",
    "        end_i = start_i + mask_size[0]\n",
    "        end_j = start_j + mask_size[1]\n",
    "        print(f\"{start_i},{start_j}\")\n",
    "        updates = torch.zeros(\n",
    "            [mask_size[0], mask_size[1], im_ch], dtype=torch.float32\n",
    "        )\n",
    "        new_images[i, start_i:end_i, start_j:end_j, :] = updates\n",
    "    return new_images \n",
    "\n",
    "def v2(images):\n",
    "    batch_size, im_x, im_y, im_ch = (\n",
    "        images.shape[0],\n",
    "        images.shape[1],\n",
    "        images.shape[2],\n",
    "        images.shape[3],\n",
    "    )\n",
    "    mask_size_factor = torch.randint(low=2, high=4, size=[1])[0]\n",
    "    mask_size = [int(im_x / mask_size_factor), int(im_y / mask_size_factor)]\n",
    "\n",
    "    start_i = torch.randint(low=0, high=im_x - mask_size[0], size=[])\n",
    "    start_j = torch.randint(low=0, high=im_y - mask_size[1], size=[])\n",
    "    end_i = start_i + mask_size[0]\n",
    "    end_j = start_j + mask_size[1]\n",
    "\n",
    "    new_images = images.clone()\n",
    "    updates = torch.zeros(\n",
    "        [mask_size[0], mask_size[1], im_ch], dtype=torch.float32\n",
    "    )\n",
    "    new_images[:, start_i:end_i, start_j:end_j, :] = updates\n",
    "    return new_images \n",
    "\n",
    "def v3(images):\n",
    "    batch_size, im_x, im_y, im_ch = images.shape\n",
    "    new_images = images.clone()\n",
    "    for i in range(batch_size):\n",
    "        mask_size_factor = torch.randint(low=2, high=4, size=[1])[0]\n",
    "        mask_size = [int(im_x / mask_size_factor), int(im_y / mask_size_factor)]\n",
    "        start_i = torch.randint(low=0, high=im_x - mask_size[0], size=[1])\n",
    "        start_j = torch.randint(low=0, high=im_y - mask_size[1], size=[1])\n",
    "        end_i = start_i + mask_size[0]\n",
    "        end_j = start_j + mask_size[1]\n",
    "        print(f\"{start_i},{start_j}\")\n",
    "        updates = torch.zeros(\n",
    "            [mask_size[0], mask_size[1], im_ch], dtype=torch.float32\n",
    "        )\n",
    "        new_images[i, start_i:end_i, start_j:end_j, :] = updates\n",
    "    return new_images "
   ]
  },
  {
   "cell_type": "code",
   "execution_count": 45,
   "metadata": {},
   "outputs": [
    {
     "name": "stdout",
     "output_type": "stream",
     "text": [
      "tensor([0]),tensor([4])\n",
      "tensor([6]),tensor([0])\n",
      "tensor([4]),tensor([2])\n",
      "tensor([0]),tensor([5])\n"
     ]
    }
   ],
   "source": [
    "new_images = v3(images)"
   ]
  },
  {
   "cell_type": "code",
   "execution_count": 46,
   "metadata": {},
   "outputs": [
    {
     "name": "stderr",
     "output_type": "stream",
     "text": [
      "Clipping input data to the valid range for imshow with RGB data ([0..1] for floats or [0..255] for integers).\n"
     ]
    },
    {
     "data": {
      "text/plain": [
       "<matplotlib.image.AxesImage at 0x7f95aaf72220>"
      ]
     },
     "execution_count": 46,
     "metadata": {},
     "output_type": "execute_result"
    },
    {
     "data": {
      "image/png": "[encoded data removed]",
      "text/plain": [
       "<Figure size 432x288 with 1 Axes>"
      ]
     },
     "metadata": {
      "needs_background": "light"
     },
     "output_type": "display_data"
    }
   ],
   "source": [
    "plt.imshow(images[1])"
   ]
  },
  {
   "cell_type": "code",
   "execution_count": 47,
   "metadata": {},
   "outputs": [
    {
     "name": "stderr",
     "output_type": "stream",
     "text": [
      "Clipping input data to the valid range for imshow with RGB data ([0..1] for floats or [0..255] for integers).\n"
     ]
    },
    {
     "data": {
      "text/plain": [
       "<matplotlib.image.AxesImage at 0x7f95aaeda640>"
      ]
     },
     "execution_count": 47,
     "metadata": {},
     "output_type": "execute_result"
    },
    {
     "data": {
      "image/png": "[encoded data removed]",
      "text/plain": [
       "<Figure size 432x288 with 1 Axes>"
      ]
     },
     "metadata": {
      "needs_background": "light"
     },
     "output_type": "display_data"
    }
   ],
   "source": [
    "plt.imshow(new_images[1])"
   ]
  },
  {
   "cell_type": "code",
   "execution_count": 48,
   "metadata": {},
   "outputs": [
    {
     "name": "stderr",
     "output_type": "stream",
     "text": [
      "Clipping input data to the valid range for imshow with RGB data ([0..1] for floats or [0..255] for integers).\n"
     ]
    },
    {
     "data": {
      "text/plain": [
       "<matplotlib.image.AxesImage at 0x7f95aae523d0>"
      ]
     },
     "execution_count": 48,
     "metadata": {},
     "output_type": "execute_result"
    },
    {
     "data": {
      "image/png": "[encoded data removed]",
      "text/plain": [
       "<Figure size 432x288 with 1 Axes>"
      ]
     },
     "metadata": {
      "needs_background": "light"
     },
     "output_type": "display_data"
    }
   ],
   "source": [
    "plt.imshow(new_images[2])"
   ]
  },
  {
   "cell_type": "code",
   "execution_count": null,
   "metadata": {},
   "outputs": [],
   "source": []
  },
  {
   "cell_type": "code",
   "execution_count": null,
   "metadata": {},
   "outputs": [],
   "source": []
  }
 ],
 "metadata": {
  "kernelspec": {
   "display_name": "Python 3.8.13 ('emote_py38')",
   "language": "python",
   "name": "python3"
  },
  "language_info": {
   "codemirror_mode": {
    "name": "ipython",
    "version": 3
   },
   "file_extension": ".py",
   "mimetype": "text/x-python",
   "name": "python",
   "nbconvert_exporter": "python",
   "pygments_lexer": "ipython3",
   "version": "3.8.13"
  },
  "orig_nbformat": 4,
  "vscode": {
   "interpreter": {
    "hash": "9ab624fccde2254e4098437cb16372bbcab0896f986cf72a0c030295947a073d"
   }
  }
 },
 "nbformat": 4,
 "nbformat_minor": 2
}
