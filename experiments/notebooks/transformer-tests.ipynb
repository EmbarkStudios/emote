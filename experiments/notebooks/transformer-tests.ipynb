{
 "cells": [
  {
   "cell_type": "markdown",
   "id": "24f0081a-2445-4a07-97eb-155c01ea0a9c",
   "metadata": {},
   "source": [
    "# Transformer Tests\n",
    "\n",
    "Herein we try to figure out how transformers could work for our vision."
   ]
  },
  {
   "cell_type": "code",
   "execution_count": 1,
   "id": "7b9c78c5-0789-48ec-a1cd-c6a40eb0a293",
   "metadata": {},
   "outputs": [],
   "source": [
    "import torch\n",
    "import torch.nn as nn\n",
    "import torch.optim as optim\n",
    "import torch.nn.functional as F\n",
    "\n",
    "import numpy as np\n",
    "from perlin_numpy import generate_perlin_noise_2d\n",
    "import matplotlib.pyplot as plt"
   ]
  },
  {
   "cell_type": "markdown",
   "id": "e3ef9761-7ce1-4675-8ad7-74467d8a9f07",
   "metadata": {},
   "source": [
    "## Data creation\n",
    "\n",
    "The goal of the transformer is to recreate a bit of terrain based on a few raycasts. Each sample in our dataset will therefore be of the format\n",
    "$$\n",
    "\\left( P \\oplus N \\right)^K \\to H : (\\mathbf p_1, \\mathbf n_1, \\ldots, \\mathbf p_K, \\mathbf n_K) \\mapsto \\mathbf h\n",
    "$$\n",
    "where $P$ represents ray trace hits, $N$ normals at the point the ray hit, we have $K$ such rays, and $H$ is the space of local height fields around the agent.\n",
    "\n",
    "For $H$ we will start by creating a bunch of synthetic heightmap data using a perlin noise generator. For each example it will generate a 30x30 grid of perlin noise."
   ]
  },
  {
   "cell_type": "code",
   "execution_count": 2,
   "id": "1d226e3b-59c9-4157-b4cb-d4d0252899e1",
   "metadata": {},
   "outputs": [],
   "source": [
    "res = 2\n",
    "image_size = 10//res*res\n",
    "pixel_size = 0.2 # Each pixel is 20 cm."
   ]
  },
  {
   "cell_type": "code",
   "execution_count": 3,
   "id": "d88a4f20-ffb0-4d2c-8520-48ee3a5d335e",
   "metadata": {},
   "outputs": [],
   "source": [
    "def make_ground():\n",
    "    return 10 * generate_perlin_noise_2d((image_size, image_size), (res, res), (False, False))"
   ]
  },
  {
   "cell_type": "code",
   "execution_count": 4,
   "id": "879285c5-b254-4df3-a7b0-cbf15ce2e05b",
   "metadata": {},
   "outputs": [],
   "source": [
    "# a function that takes a vector - three numbers - and normalize it, i.e make it's length = 1\n",
    "def normalizeRGB(vec):\n",
    "    length = np.sqrt(vec[:,:,0]**2 + vec[:,:,1]**2 + vec[:,:,2]**2)\n",
    "    vec[:,:,0] = vec[:,:,0] / length\n",
    "    vec[:,:,1] = vec[:,:,1] / length\n",
    "    vec[:,:,2] = vec[:,:,2] / length\n",
    "    return vec"
   ]
  },
  {
   "cell_type": "markdown",
   "id": "52efd665-96e1-499b-ad56-3ff92037cc67",
   "metadata": {},
   "source": [
    "We use a simple finite difference approximation for the normals, so just shift the image one step in each direction and then take the difference. There are better approximations available (see e.g. [this](https://bartwronski.com/2021/02/28/computing-gradients-on-grids-forward-central-and-diagonal-differences/)) but this works fine for us.\n",
    "\n",
    "We can write a height map $h$ as the surface \n",
    "$$\n",
    "f(x, y, z) = h(x, y) - z = 0.\n",
    "$$\n",
    "\n",
    "Then the normal is given by\n",
    "$$\n",
    "n(x, y, z) = \\nabla f = \\left( \\frac{\\partial h}{\\partial x},  \\frac{\\partial h}{\\partial y}, -1 \\right).\n",
    "$$\n",
    "\n",
    "Then we can approximate the partial derivatives at a given pixel with the differences between surrounding pixels, divided by twice the grid step size."
   ]
  },
  {
   "cell_type": "code",
   "execution_count": 5,
   "id": "a6013599-03a5-42e0-815c-b339ff2283e7",
   "metadata": {},
   "outputs": [],
   "source": [
    "def make_normals(ground):\n",
    "    bottom = np.pad(ground, 1, mode='edge')[2:, 1:-1]\n",
    "    top = np.pad(ground, 1, mode='edge')[:-2, 1:-1]\n",
    "    left = np.pad(ground, 1, mode='edge')[1:-1, 0:-2]\n",
    "    right = np.pad(ground, 1, mode='edge')[1:-1, 2:]\n",
    "    \n",
    "    xy_scale = 2/pixel_size\n",
    "    grad_x = xy_scale * (right - left)\n",
    "    grad_y = xy_scale * (bottom - top)\n",
    "    return normalizeRGB(np.array([grad_x, grad_y, -4*np.ones((image_size, image_size))]).transpose())"
   ]
  },
  {
   "cell_type": "code",
   "execution_count": 6,
   "id": "752fd14f-2206-4165-971d-f293e73717c1",
   "metadata": {},
   "outputs": [
    {
     "data": {
      "text/plain": [
       "<matplotlib.image.AxesImage at 0x110b01870>"
      ]
     },
     "execution_count": 6,
     "metadata": {},
     "output_type": "execute_result"
    },
    {
     "data": {
      "image/png": "[encoded data removed]",
      "text/plain": [
       "<Figure size 640x480 with 3 Axes>"
      ]
     },
     "metadata": {},
     "output_type": "display_data"
    }
   ],
   "source": [
    "ground = make_ground()\n",
    "normals = make_normals(ground)\n",
    "plt.subplot(131)\n",
    "plt.imshow(ground)\n",
    "plt.subplot(132)\n",
    "plt.imshow(normals[:,:,0], \"PiYG\")\n",
    "plt.subplot(133)\n",
    "plt.imshow(normals[:,:,1], \"PiYG\")"
   ]
  },
  {
   "cell_type": "code",
   "execution_count": 7,
   "id": "dd5b0273-431e-485e-afa3-e68938a62b94",
   "metadata": {},
   "outputs": [],
   "source": [
    "def sample_raytoken(ground, normals):\n",
    "    (size_x, size_y) = ground.shape\n",
    "    x_s = np.random.randint(size_x)\n",
    "    y_s = np.random.randint(size_y)\n",
    "    height = ground[x_s, y_s]\n",
    "    normal = normals[x_s, y_s]\n",
    "    relative_x = (x_s - size_x / 2) * pixel_size\n",
    "    relative_y = (y_s - size_y / 2) * pixel_size\n",
    "    th\n",
    "    return np.array([relative_x, relative_y, height, normal[0], normal[1], normal[2]])"
   ]
  },
  {
   "cell_type": "code",
   "execution_count": 8,
   "id": "4a863701-d8e1-47fb-adc9-d2bd56fca505",
   "metadata": {},
   "outputs": [],
   "source": [
    "def sample_data(ground, num_samples):\n",
    "    normals = make_normals(ground)\n",
    "    samples = np.array([sample_raytoken(ground, normals) for i in range(num_samples)])\n",
    "    return samples"
   ]
  },
  {
   "cell_type": "markdown",
   "id": "76042e80-5465-4527-9fa0-d01799f09f85",
   "metadata": {},
   "source": [
    "## The Transformer part\n",
    "\n",
    "We define a simple transformer model in pytorch and train it on this synthetic data."
   ]
  },
  {
   "cell_type": "code",
   "execution_count": 9,
   "id": "94ac6af2-2aec-42d8-b9d7-853e70574e1f",
   "metadata": {},
   "outputs": [],
   "source": [
    "class ImageTransformer(nn.Module):\n",
    "    def __init__(self, input_size, d_model, nhead, num_layers, sequence_length, image_size):\n",
    "        super().__init__()\n",
    "        self.embedding = nn.Linear(input_size, d_model)\n",
    "        self.transformer_encoder = nn.TransformerEncoder(\n",
    "            nn.TransformerEncoderLayer(d_model, nhead),\n",
    "            num_layers\n",
    "        )\n",
    "        self.fc = nn.Linear(d_model * sequence_length, image_size * image_size)\n",
    "        self.sigmoid = nn.Sigmoid()\n",
    "        self.sequence_length = sequence_length\n",
    "        self.image_size = image_size\n",
    "\n",
    "    def forward(self, x):\n",
    "        x = self.embedding(x)\n",
    "        x = x.permute(1, 0, 2)  # Change from (batch_size, seq_len, embedding_size) to (seq_len, batch_size, embedding_size)\n",
    "        x = self.transformer_encoder(x)\n",
    "        x = x.permute(1, 0, 2)  # Change back to (batch_size, seq_len, embedding_size)\n",
    "        x = x.reshape(-1, self.sequence_length * x.size(2))\n",
    "        x = self.fc(x)\n",
    "        x = x.view(-1, self.image_size, self.image_size)\n",
    "        return x"
   ]
  },
  {
   "cell_type": "code",
   "execution_count": 24,
   "id": "0723b9b8-36f5-4617-b777-f6c177752a53",
   "metadata": {},
   "outputs": [],
   "source": [
    "# Here, we generate random input data and target images\n",
    "input_size = 2  # size of each input embedding vector\n",
    "nhead = 4  # number of attention heads in the transformer\n",
    "num_layers = 10  # number of transformer layers\n",
    "d_model = image_size * image_size  # internal model dimension\n",
    "\n",
    "seq_len = 30  # Number of ray tokens per ground image\n",
    "num_samples = 1000\n",
    "\n",
    "# Model\n",
    "model = ImageTransformer(input_size, d_model, nhead, num_layers, seq_len, image_size)\n",
    "\n",
    "# Loss function\n",
    "criterion = nn.MSELoss()\n",
    "\n",
    "# Optimizer\n",
    "optimizer = optim.Adam(model.parameters(), lr=0.001)\n",
    "\n",
    "# Training loop\n",
    "num_epochs = 10"
   ]
  },
  {
   "cell_type": "code",
   "execution_count": 25,
   "id": "f4e8b964-a6ad-44b9-8f32-29cfa8a89eed",
   "metadata": {},
   "outputs": [],
   "source": [
    "def step(model, optimizer, inputs, targets):\n",
    "    model.train()\n",
    "    optimizer.zero_grad()\n",
    "\n",
    "    # Forward pass\n",
    "    outputs = model(inputs)\n",
    "\n",
    "    # Flatten the outputs and targets for the loss calculation\n",
    "    outputs_flat = outputs.view(-1, image_size * image_size)\n",
    "    targets_flat = targets.view(-1, image_size * image_size)\n",
    "\n",
    "    # Calculate loss\n",
    "    loss = criterion(outputs_flat, targets_flat)\n",
    "\n",
    "    # Backward pass and optimization\n",
    "    loss.backward()\n",
    "    optimizer.step()\n",
    "\n",
    "    # Print loss for monitoring training progress\n",
    "    print(f'Epoch [{epoch}/{num_epochs}], Loss: {loss.item():.4f}')"
   ]
  },
  {
   "cell_type": "code",
   "execution_count": 26,
   "id": "4aa78541-2026-483f-8ff0-94823c8eb610",
   "metadata": {},
   "outputs": [],
   "source": [
    "def make_n_blips(n):\n",
    "    ground = np.zeros((image_size, image_size))\n",
    "    blips = np.array([[np.random.randint(image_size), np.random.randint(image_size)] for _ in range(n)]).T\n",
    "    ground[blips[0], blips[1]] = 1.\n",
    "    blips = blips/image_size - 0.5\n",
    "    return ground, blips.T"
   ]
  },
  {
   "cell_type": "code",
   "execution_count": 30,
   "id": "8f37adc8-d45a-407c-a890-75aab6a6a8d8",
   "metadata": {},
   "outputs": [
    {
     "name": "stdout",
     "output_type": "stream",
     "text": [
      "Epoch [0/10], Loss: 0.2364\n",
      "Epoch [1/10], Loss: 0.2421\n",
      "Epoch [2/10], Loss: 0.2281\n",
      "Epoch [3/10], Loss: 0.2311\n",
      "Epoch [4/10], Loss: 0.2348\n",
      "Epoch [5/10], Loss: 0.2234\n",
      "Epoch [6/10], Loss: 0.2263\n",
      "Epoch [7/10], Loss: 0.2299\n",
      "Epoch [8/10], Loss: 0.2225\n",
      "Epoch [9/10], Loss: 0.2232\n"
     ]
    }
   ],
   "source": [
    "# ground = make_ground()\n",
    "targets_blips = [make_n_blips(seq_len) for _ in range(num_samples)]\n",
    "targets, inputs = zip(*targets_blips)\n",
    "for epoch in range(num_epochs):\n",
    "    inputs, targets = torch.tensor(np.array(inputs)).float(), torch.tensor(np.array(targets)).float()\n",
    "    step(model, optimizer, inputs, targets)"
   ]
  },
  {
   "cell_type": "code",
   "execution_count": 23,
   "id": "d2eb9c14-a650-4be1-96cb-07f2ca32c867",
   "metadata": {},
   "outputs": [
    {
     "data": {
      "text/plain": [
       "tensor([[-0.3000,  0.0000],\n",
       "        [-0.1000, -0.2000],\n",
       "        [ 0.0000,  0.1000],\n",
       "        [-0.1000, -0.4000],\n",
       "        [-0.5000,  0.3000],\n",
       "        [ 0.1000,  0.0000],\n",
       "        [ 0.3000,  0.4000],\n",
       "        [ 0.4000, -0.3000],\n",
       "        [ 0.1000, -0.2000],\n",
       "        [ 0.3000, -0.2000],\n",
       "        [ 0.0000,  0.3000],\n",
       "        [ 0.2000,  0.0000],\n",
       "        [ 0.1000, -0.2000],\n",
       "        [ 0.2000, -0.4000],\n",
       "        [-0.4000,  0.0000],\n",
       "        [-0.4000,  0.1000],\n",
       "        [ 0.1000,  0.2000],\n",
       "        [-0.4000, -0.2000],\n",
       "        [-0.3000,  0.3000],\n",
       "        [ 0.1000, -0.2000],\n",
       "        [ 0.2000, -0.3000],\n",
       "        [ 0.2000, -0.3000],\n",
       "        [-0.1000, -0.3000],\n",
       "        [ 0.1000,  0.3000],\n",
       "        [-0.3000, -0.3000],\n",
       "        [-0.5000,  0.3000],\n",
       "        [-0.4000, -0.5000],\n",
       "        [-0.3000,  0.2000],\n",
       "        [ 0.3000,  0.2000],\n",
       "        [-0.5000,  0.3000]])"
      ]
     },
     "execution_count": 23,
     "metadata": {},
     "output_type": "execute_result"
    }
   ],
   "source": [
    "inputs[0]"
   ]
  },
  {
   "cell_type": "code",
   "execution_count": 14,
   "id": "56e1778c-2501-44b5-9b4f-914f4d8d6a58",
   "metadata": {},
   "outputs": [
    {
     "ename": "NameError",
     "evalue": "name 'th' is not defined",
     "output_type": "error",
     "traceback": [
      "\u001b[0;31m---------------------------------------------------------------------------\u001b[0m",
      "\u001b[0;31mNameError\u001b[0m                                 Traceback (most recent call last)",
      "Cell \u001b[0;32mIn[14], line 4\u001b[0m\n\u001b[1;32m      2\u001b[0m targets_blips \u001b[38;5;241m=\u001b[39m [make_n_blips(seq_len) \u001b[38;5;28;01mfor\u001b[39;00m _ \u001b[38;5;129;01min\u001b[39;00m \u001b[38;5;28mrange\u001b[39m(num_samples)]\n\u001b[1;32m      3\u001b[0m targets \u001b[38;5;241m=\u001b[39m [make_ground() \u001b[38;5;28;01mfor\u001b[39;00m _ \u001b[38;5;129;01min\u001b[39;00m \u001b[38;5;28mrange\u001b[39m(num_samples)]\n\u001b[0;32m----> 4\u001b[0m inputs \u001b[38;5;241m=\u001b[39m [sample_data(ground, seq_len) \u001b[38;5;28;01mfor\u001b[39;00m ground \u001b[38;5;129;01min\u001b[39;00m targets]\n\u001b[1;32m      5\u001b[0m \u001b[38;5;28;01mfor\u001b[39;00m epoch \u001b[38;5;129;01min\u001b[39;00m \u001b[38;5;28mrange\u001b[39m(\u001b[38;5;241m30\u001b[39m):\n\u001b[1;32m      6\u001b[0m     inputs, targets \u001b[38;5;241m=\u001b[39m torch\u001b[38;5;241m.\u001b[39mtensor(np\u001b[38;5;241m.\u001b[39marray(inputs))\u001b[38;5;241m.\u001b[39mfloat(), torch\u001b[38;5;241m.\u001b[39mtensor(np\u001b[38;5;241m.\u001b[39marray(targets))\u001b[38;5;241m.\u001b[39mfloat()\n",
      "Cell \u001b[0;32mIn[14], line 4\u001b[0m, in \u001b[0;36m<listcomp>\u001b[0;34m(.0)\u001b[0m\n\u001b[1;32m      2\u001b[0m targets_blips \u001b[38;5;241m=\u001b[39m [make_n_blips(seq_len) \u001b[38;5;28;01mfor\u001b[39;00m _ \u001b[38;5;129;01min\u001b[39;00m \u001b[38;5;28mrange\u001b[39m(num_samples)]\n\u001b[1;32m      3\u001b[0m targets \u001b[38;5;241m=\u001b[39m [make_ground() \u001b[38;5;28;01mfor\u001b[39;00m _ \u001b[38;5;129;01min\u001b[39;00m \u001b[38;5;28mrange\u001b[39m(num_samples)]\n\u001b[0;32m----> 4\u001b[0m inputs \u001b[38;5;241m=\u001b[39m [\u001b[43msample_data\u001b[49m\u001b[43m(\u001b[49m\u001b[43mground\u001b[49m\u001b[43m,\u001b[49m\u001b[43m \u001b[49m\u001b[43mseq_len\u001b[49m\u001b[43m)\u001b[49m \u001b[38;5;28;01mfor\u001b[39;00m ground \u001b[38;5;129;01min\u001b[39;00m targets]\n\u001b[1;32m      5\u001b[0m \u001b[38;5;28;01mfor\u001b[39;00m epoch \u001b[38;5;129;01min\u001b[39;00m \u001b[38;5;28mrange\u001b[39m(\u001b[38;5;241m30\u001b[39m):\n\u001b[1;32m      6\u001b[0m     inputs, targets \u001b[38;5;241m=\u001b[39m torch\u001b[38;5;241m.\u001b[39mtensor(np\u001b[38;5;241m.\u001b[39marray(inputs))\u001b[38;5;241m.\u001b[39mfloat(), torch\u001b[38;5;241m.\u001b[39mtensor(np\u001b[38;5;241m.\u001b[39marray(targets))\u001b[38;5;241m.\u001b[39mfloat()\n",
      "Cell \u001b[0;32mIn[8], line 3\u001b[0m, in \u001b[0;36msample_data\u001b[0;34m(ground, num_samples)\u001b[0m\n\u001b[1;32m      1\u001b[0m \u001b[38;5;28;01mdef\u001b[39;00m \u001b[38;5;21msample_data\u001b[39m(ground, num_samples):\n\u001b[1;32m      2\u001b[0m     normals \u001b[38;5;241m=\u001b[39m make_normals(ground)\n\u001b[0;32m----> 3\u001b[0m     samples \u001b[38;5;241m=\u001b[39m np\u001b[38;5;241m.\u001b[39marray([sample_raytoken(ground, normals) \u001b[38;5;28;01mfor\u001b[39;00m i \u001b[38;5;129;01min\u001b[39;00m \u001b[38;5;28mrange\u001b[39m(num_samples)])\n\u001b[1;32m      4\u001b[0m     \u001b[38;5;28;01mreturn\u001b[39;00m samples\n",
      "Cell \u001b[0;32mIn[8], line 3\u001b[0m, in \u001b[0;36m<listcomp>\u001b[0;34m(.0)\u001b[0m\n\u001b[1;32m      1\u001b[0m \u001b[38;5;28;01mdef\u001b[39;00m \u001b[38;5;21msample_data\u001b[39m(ground, num_samples):\n\u001b[1;32m      2\u001b[0m     normals \u001b[38;5;241m=\u001b[39m make_normals(ground)\n\u001b[0;32m----> 3\u001b[0m     samples \u001b[38;5;241m=\u001b[39m np\u001b[38;5;241m.\u001b[39marray([\u001b[43msample_raytoken\u001b[49m\u001b[43m(\u001b[49m\u001b[43mground\u001b[49m\u001b[43m,\u001b[49m\u001b[43m \u001b[49m\u001b[43mnormals\u001b[49m\u001b[43m)\u001b[49m \u001b[38;5;28;01mfor\u001b[39;00m i \u001b[38;5;129;01min\u001b[39;00m \u001b[38;5;28mrange\u001b[39m(num_samples)])\n\u001b[1;32m      4\u001b[0m     \u001b[38;5;28;01mreturn\u001b[39;00m samples\n",
      "Cell \u001b[0;32mIn[7], line 9\u001b[0m, in \u001b[0;36msample_raytoken\u001b[0;34m(ground, normals)\u001b[0m\n\u001b[1;32m      7\u001b[0m relative_x \u001b[38;5;241m=\u001b[39m (x_s \u001b[38;5;241m-\u001b[39m size_x \u001b[38;5;241m/\u001b[39m \u001b[38;5;241m2\u001b[39m) \u001b[38;5;241m*\u001b[39m pixel_size\n\u001b[1;32m      8\u001b[0m relative_y \u001b[38;5;241m=\u001b[39m (y_s \u001b[38;5;241m-\u001b[39m size_y \u001b[38;5;241m/\u001b[39m \u001b[38;5;241m2\u001b[39m) \u001b[38;5;241m*\u001b[39m pixel_size\n\u001b[0;32m----> 9\u001b[0m \u001b[43mth\u001b[49m\n\u001b[1;32m     10\u001b[0m \u001b[38;5;28;01mreturn\u001b[39;00m np\u001b[38;5;241m.\u001b[39marray([relative_x, relative_y, height, normal[\u001b[38;5;241m0\u001b[39m], normal[\u001b[38;5;241m1\u001b[39m], normal[\u001b[38;5;241m2\u001b[39m]])\n",
      "\u001b[0;31mNameError\u001b[0m: name 'th' is not defined"
     ]
    }
   ],
   "source": [
    "# ground = make_ground()\n",
    "targets_blips = [make_n_blips(seq_len) for _ in range(num_samples)]\n",
    "targets = [make_ground() for _ in range(num_samples)]\n",
    "inputs = [sample_data(ground, seq_len) for ground in targets]\n",
    "for epoch in range(30):\n",
    "    inputs, targets = torch.tensor(np.array(inputs)).float(), torch.tensor(np.array(targets)).float()\n",
    "    step(model, optimizer, inputs, targets)"
   ]
  },
  {
   "cell_type": "code",
   "execution_count": null,
   "id": "dac21605-e087-40ce-816b-03098ce41ac5",
   "metadata": {},
   "outputs": [],
   "source": [
    "# for epoch in range(30):\n",
    "#     targets = [make_ground() for _ in range(num_samples)]\n",
    "#     inputs = [sample_data(ground, seq_len) for ground in targets]\n",
    "#     inputs, targets = torch.tensor(np.array(inputs)).float(), torch.tensor(np.array(targets)).float()\n",
    "#     step(model, optimizer, inputs, targets)"
   ]
  },
  {
   "cell_type": "code",
   "execution_count": 32,
   "id": "37143098-8128-49e9-a67f-d0a63d95f346",
   "metadata": {},
   "outputs": [
    {
     "data": {
      "text/plain": [
       "<matplotlib.image.AxesImage at 0x13dd05cf0>"
      ]
     },
     "execution_count": 32,
     "metadata": {},
     "output_type": "execute_result"
    },
    {
     "data": {
      "image/png": "[encoded data removed]",
      "text/plain": [
       "<Figure size 640x480 with 3 Axes>"
      ]
     },
     "metadata": {},
     "output_type": "display_data"
    }
   ],
   "source": [
    "# After training, you can use the model for inference\n",
    "model.eval()\n",
    "with torch.no_grad():\n",
    "    # Example inference with a new input sequence\n",
    "    # ground = make_ground()\n",
    "    ground = targets[102]\n",
    "    # input = sample_data(ground, seq_len)\n",
    "    # input = torch.tensor(np.array([input])).float()\n",
    "    input = inputs[102].unsqueeze(0)\n",
    "    predicted_ground = model(input)\n",
    "\n",
    "plt.subplot(131)\n",
    "plt.imshow(ground)\n",
    "plt.subplot(132)\n",
    "plt.imshow(predicted_ground[0].numpy())\n",
    "plt.subplot(133)\n",
    "plt.imshow(ground - predicted_ground[0].numpy(), \"PiYG\")"
   ]
  },
  {
   "cell_type": "code",
   "execution_count": null,
   "id": "b48069a8-8f29-4154-844d-bf6a8fe79505",
   "metadata": {},
   "outputs": [],
   "source": []
  }
 ],
 "metadata": {
  "kernelspec": {
   "display_name": "Python 3 (ipykernel)",
   "language": "python",
   "name": "python3"
  },
  "language_info": {
   "codemirror_mode": {
    "name": "ipython",
    "version": 3
   },
   "file_extension": ".py",
   "mimetype": "text/x-python",
   "name": "python",
   "nbconvert_exporter": "python",
   "pygments_lexer": "ipython3",
   "version": "3.10.11"
  }
 },
 "nbformat": 4,
 "nbformat_minor": 5
}
